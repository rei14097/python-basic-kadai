{
  "nbformat": 4,
  "nbformat_minor": 0,
  "metadata": {
    "colab": {
      "provenance": []
    },
    "kernelspec": {
      "name": "python3",
      "display_name": "Python 3"
    },
    "language_info": {
      "name": "python"
    }
  },
  "cells": [
    {
      "cell_type": "code",
      "source": [
        "#関数課題\n",
        "def calculate_total_with_tax(price, tax):\n",
        "    total = price * (1+tax/100)\n",
        "\n",
        "    return int(total)\n",
        "#関数の呼び出し\n",
        "result = calculate_total_with_tax(100, 10)\n",
        "print(f\"{result}円\")"
      ],
      "metadata": {
        "colab": {
          "base_uri": "https://localhost:8080/"
        },
        "id": "G8cQAah_ru4G",
        "outputId": "d4527b9e-adc8-417e-8856-809d649e8cf4"
      },
      "execution_count": null,
      "outputs": [
        {
          "output_type": "stream",
          "name": "stdout",
          "text": [
            "110円\n"
          ]
        }
      ]
    }
  ]
}