{
  "nbformat": 4,
  "nbformat_minor": 0,
  "metadata": {
    "colab": {
      "provenance": []
    },
    "kernelspec": {
      "name": "python3",
      "display_name": "Python 3"
    },
    "language_info": {
      "name": "python"
    }
  },
  "cells": [
    {
      "cell_type": "code",
      "source": [
        "from openpyxl import Workbook\n",
        "from openpyxl.styles import Alignment, Font\n",
        "from datetime import datetime\n",
        "\n",
        "# ワークブックとワークシート作成\n",
        "wb = Workbook()\n",
        "ws = wb.active\n",
        "\n",
        "# データ入力\n",
        "ws['B2'] = '請求書'\n",
        "\n",
        "ws['B4'] = '株式会社ABC'\n",
        "ws['B5'] = '〒101-0022 東京都千代田区神田練塀町300'\n",
        "ws['B6'] = 'TEL:03-1234-5678 FAX:03-1234-5678'\n",
        "ws['B7'] = '担当者名：鈴木一郎 様'\n",
        "\n",
        "ws['F4'] = 'No.'\n",
        "ws['G4'] = '0001'\n",
        "ws['F5'] = '日付'\n",
        "ws['G5'] = '2023/04/08'\n",
        "\n",
        "# 表のヘッダー\n",
        "ws['B9'] = '商品名'\n",
        "ws['C9'] = '数量'\n",
        "ws['D9'] = '単価'\n",
        "ws['E9'] = '金額'\n",
        "\n",
        "# 商品データ\n",
        "ws['B10'] = '商品A'\n",
        "ws['C10'] = 2\n",
        "ws['D10'] = 10000\n",
        "ws['E10'] = 20000\n",
        "\n",
        "ws['B11'] = '商品B'\n",
        "ws['C11'] = 1\n",
        "ws['D11'] = 15000\n",
        "ws['E11'] = 15000\n",
        "\n",
        "# 合計・消費税・税込合計\n",
        "ws['D13'] = '合計'\n",
        "ws['E13'] = 35000\n",
        "\n",
        "ws['D14'] = '消費税'\n",
        "ws['E14'] = 3500\n",
        "\n",
        "ws['D15'] = '税込合計'\n",
        "ws['E15'] = 38500\n",
        "\n",
        "# フォント・中央寄せスタイル設定\n",
        "bold_font = Font(bold=True)\n",
        "center_alignment = Alignment(horizontal='center')\n",
        "\n",
        "for cell in ['B2', 'B9', 'C9', 'D9', 'E9']:\n",
        "    ws[cell].font = bold_font\n",
        "    ws[cell].alignment = center_alignment\n",
        "\n",
        "# 現在日付を取得してファイル名にする\n",
        "today = datetime.today().strftime('%Y%m%d')\n",
        "filename = f'請求書_{today}.xlsx'\n",
        "\n",
        "# 保存\n",
        "wb.save(filename)\n"
      ],
      "metadata": {
        "id": "MfXMpggOwUDr"
      },
      "execution_count": 2,
      "outputs": []
    }
  ]
}