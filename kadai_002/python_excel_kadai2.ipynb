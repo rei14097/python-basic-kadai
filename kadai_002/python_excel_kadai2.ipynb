{
  "nbformat": 4,
  "nbformat_minor": 0,
  "metadata": {
    "colab": {
      "provenance": []
    },
    "kernelspec": {
      "name": "python3",
      "display_name": "Python 3"
    },
    "language_info": {
      "name": "python"
    }
  },
  "cells": [
    {
      "cell_type": "code",
      "execution_count": 1,
      "metadata": {
        "id": "rJ3v5faDQVos"
      },
      "outputs": [],
      "source": [
        "# pandasをインポート\n",
        "import pandas as pd\n",
        "\n",
        "# 1. 元データの作成\n",
        "data = {\n",
        "    '日付': ['2023-05-17', '2023-05-18', '2023-05-19', '2023-05-20', '2023-05-21'],\n",
        "    '社員名': ['山田', '佐藤', '鈴木', '田中', '高橋'],\n",
        "    '売上': [100, 200, 150, 300, 250],\n",
        "    '部門': ['メーカー', '代理店', 'メーカー', '商社', '代理店']\n",
        "}\n",
        "\n",
        "df = pd.DataFrame(data)\n",
        "\n",
        "# 2. 平均売上を算出して「平均売上」列に追加\n",
        "average_sales = df['売上'].mean()\n",
        "df['平均売上'] = average_sales\n",
        "\n",
        "# 3. 業績ランクを決める関数を定義\n",
        "def performance(sales, avg):\n",
        "    if sales >= avg + 50:\n",
        "        return 'A'\n",
        "    elif sales >= avg:\n",
        "        return 'B'\n",
        "    else:\n",
        "        return 'C'\n",
        "\n",
        "# 4. 業績ランク列を作成\n",
        "df['業績ランク'] = df['売上'].apply(lambda x: performance(x, average_sales))\n",
        "\n",
        "# 5. 業績.xlsxというファイルに書き出し\n",
        "df.to_excel('業績.xlsx', index=False)\n"
      ]
    }
  ]
}