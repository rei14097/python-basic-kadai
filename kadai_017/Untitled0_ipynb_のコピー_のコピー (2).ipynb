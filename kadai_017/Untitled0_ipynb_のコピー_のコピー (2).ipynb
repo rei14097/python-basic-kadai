{
  "nbformat": 4,
  "nbformat_minor": 0,
  "metadata": {
    "colab": {
      "provenance": []
    },
    "kernelspec": {
      "name": "python3",
      "display_name": "Python 3"
    },
    "language_info": {
      "name": "python"
    }
  },
  "cells": [
    {
      "cell_type": "code",
      "source": [
        "# Humanクラスを定義\n",
        "class Human:\n",
        "    # 初期化メソッド（コンストラクタ）\n",
        "    def __init__(self, name, age):\n",
        "        # 名前と年齢を属性として保存\n",
        "        self.name = name\n",
        "        self.age = age\n",
        "\n",
        "    # 成人かどうかを判定するメソッド\n",
        "    def check_adult(self):\n",
        "        # 年齢が20以上なら大人、それ以外なら大人でないと判定\n",
        "        if self.age >= 20:\n",
        "            print(f\"{self.name}さん（{self.age}歳）は大人です。\")\n",
        "        else:\n",
        "            print(f\"{self.name}さん（{self.age}歳）は大人ではありません。\")\n",
        "\n",
        "# Humanクラスのインスタンスを複数作成し、リストに格納\n",
        "humans = [\n",
        "    Human(\"侍太郎\", 30),\n",
        "    Human(\"侍次郎\", 25),\n",
        "    Human(\"侍三郎\", 20),\n",
        "    Human(\"侍四郎\", 15),\n",
        "    Human(\"侍五郎\", 10)\n",
        "]\n",
        "\n",
        "# 繰り返し処理でリスト内の各インスタンスに対してcheck_adultメソッドを実行\n",
        "for Human in humans:\n",
        "    Human.check_adult()"
      ],
      "metadata": {
        "id": "T2piX4TY2IyC",
        "colab": {
          "base_uri": "https://localhost:8080/"
        },
        "outputId": "d810eb9d-26c3-4665-a710-3744ab5e5ab7"
      },
      "execution_count": 1,
      "outputs": [
        {
          "output_type": "stream",
          "name": "stdout",
          "text": [
            "侍太郎さん（30歳）は大人です。\n",
            "侍次郎さん（25歳）は大人です。\n",
            "侍三郎さん（20歳）は大人です。\n",
            "侍四郎さん（15歳）は大人ではありません。\n",
            "侍五郎さん（10歳）は大人ではありません。\n"
          ]
        }
      ]
    }
  ]
}