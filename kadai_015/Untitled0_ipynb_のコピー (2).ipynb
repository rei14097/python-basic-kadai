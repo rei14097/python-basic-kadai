{
  "nbformat": 4,
  "nbformat_minor": 0,
  "metadata": {
    "colab": {
      "provenance": []
    },
    "kernelspec": {
      "name": "python3",
      "display_name": "Python 3"
    },
    "language_info": {
      "name": "python"
    }
  },
  "cells": [
    {
      "cell_type": "code",
      "source": [
        "#クラス課題\n",
        "class Human:\n",
        "    # コンストラクタを定義する\n",
        "    def __init__(self, name, age):\n",
        "        self.name = name\n",
        "        self.age = age\n",
        "    def printinfo (self):\n",
        "        print(f\"名前は{self.name}です。年齢は{self.age}歳です。\")\n",
        "\n",
        "# インスタンス化する\n",
        "human = Human(\"侍太郎\", 36,)\n",
        "\n",
        "# 属性にアクセスし、値を出力する\n",
        "human.printinfo()"
      ],
      "metadata": {
        "colab": {
          "base_uri": "https://localhost:8080/"
        },
        "id": "ZpkLz10L7NJh",
        "outputId": "9eeb922a-9761-40a3-f3e1-b9a35e0b5d05"
      },
      "execution_count": null,
      "outputs": [
        {
          "output_type": "stream",
          "name": "stdout",
          "text": [
            "名前は侍次郎です。年齢は28歳です。\n"
          ]
        }
      ]
    }
  ]
}