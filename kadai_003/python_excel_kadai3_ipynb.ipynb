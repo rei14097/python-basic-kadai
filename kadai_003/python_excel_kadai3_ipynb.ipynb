{
  "nbformat": 4,
  "nbformat_minor": 0,
  "metadata": {
    "colab": {
      "provenance": []
    },
    "kernelspec": {
      "name": "python3",
      "display_name": "Python 3"
    },
    "language_info": {
      "name": "python"
    }
  },
  "cells": [
    {
      "cell_type": "markdown",
      "source": [],
      "metadata": {
        "id": "pzhNVe8tN9gc"
      }
    },
    {
      "cell_type": "code",
      "source": [
        "!pip install -U openpyxl"
      ],
      "metadata": {
        "colab": {
          "base_uri": "https://localhost:8080/",
          "height": 365
        },
        "id": "rq1UwRn-1rV0",
        "outputId": "8236ef7d-e3fe-458c-a9ef-e19f0d963a1e"
      },
      "execution_count": 10,
      "outputs": [
        {
          "output_type": "stream",
          "name": "stdout",
          "text": [
            "Requirement already satisfied: openpyxl in /usr/local/lib/python3.11/dist-packages (3.0.10)\n",
            "Collecting openpyxl\n",
            "  Downloading openpyxl-3.1.5-py2.py3-none-any.whl.metadata (2.5 kB)\n",
            "Requirement already satisfied: et-xmlfile in /usr/local/lib/python3.11/dist-packages (from openpyxl) (2.0.0)\n",
            "Downloading openpyxl-3.1.5-py2.py3-none-any.whl (250 kB)\n",
            "\u001b[2K   \u001b[90m━━━━━━━━━━━━━━━━━━━━━━━━━━━━━━━━━━━━━━━━\u001b[0m \u001b[32m250.9/250.9 kB\u001b[0m \u001b[31m8.9 MB/s\u001b[0m eta \u001b[36m0:00:00\u001b[0m\n",
            "\u001b[?25hInstalling collected packages: openpyxl\n",
            "  Attempting uninstall: openpyxl\n",
            "    Found existing installation: openpyxl 3.0.10\n",
            "    Uninstalling openpyxl-3.0.10:\n",
            "      Successfully uninstalled openpyxl-3.0.10\n",
            "Successfully installed openpyxl-3.1.5\n"
          ]
        },
        {
          "output_type": "display_data",
          "data": {
            "application/vnd.colab-display-data+json": {
              "pip_warning": {
                "packages": [
                  "openpyxl"
                ]
              },
              "id": "eba89ba01fd14809b5e5aa7e39d7c9d6"
            }
          },
          "metadata": {}
        }
      ]
    },
    {
      "cell_type": "code",
      "source": [
        "import pandas as pd\n",
        "\n",
        "# ファイルの読み込み\n",
        "df_2022 = pd.read_excel(\"2022_年間売上表.xlsx\")\n",
        "df_2023 = pd.read_excel(\"2023_年間売上表.xlsx\")\n",
        "\n",
        "# データの連結\n",
        "df_all = pd.concat([df_2022, df_2023])\n",
        "\n",
        "# 集計処理（商品ごと×売上年ごとの合計金額）\n",
        "df_summary = df_all.groupby([\"商品\", \"売上年\"]).sum().reset_index()\n",
        "\n",
        "# 表の並び順をわかりやすく（オプション）\n",
        "df_summary = df_summary.sort_values(by=[\"商品\", \"売上年\"])\n",
        "\n",
        "from openpyxl import load_workbook\n",
        "from openpyxl.styles import PatternFill\n",
        "\n",
        "# 集計データを書き出し\n",
        "output_filename = \"売上集計表.xlsx\"\n",
        "df_summary.to_excel(output_filename, index=False)\n",
        "\n",
        "# openpyxlで書式設定\n",
        "wb = load_workbook(output_filename)\n",
        "ws = wb.active\n",
        "\n",
        "# 1行目（ヘッダー）に薄いグレー背景を設定\n",
        "fill = PatternFill(start_color=\"F2F2F2\", end_color=\"F2F2F2\", fill_type=\"solid\")\n",
        "for cell in ws[1]:\n",
        "    cell.fill = fill\n",
        "\n",
        "# 保存\n",
        "wb.save(output_filename)\n",
        "\n",
        "files.download(\"売上集計表.xlsx\")"
      ],
      "metadata": {
        "id": "PlUbv8BZ7Hz4"
      },
      "execution_count": 1,
      "outputs": []
    },
    {
      "cell_type": "markdown",
      "source": [],
      "metadata": {
        "id": "8UQIjvlA7xPn"
      }
    }
  ]
}